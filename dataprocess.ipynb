{
 "cells": [
  {
   "cell_type": "markdown",
   "metadata": {},
   "source": [
    "# GHG Emissions Data Preprocessing"
   ]
  },
  {
   "cell_type": "code",
   "execution_count": 1,
   "metadata": {},
   "outputs": [],
   "source": [
    "import pandas as pd"
   ]
  },
  {
   "cell_type": "code",
   "execution_count": 23,
   "metadata": {},
   "outputs": [],
   "source": [
    "sheets = []\n",
    "for i in range(2011,2021):\n",
    "    sheets.append(pd.read_excel('normalized_bps_data_2011-2020_public_hospital.xlsx',sheet_name = str(i)))\n",
    "df = pd.concat(sheets, ignore_index=True)"
   ]
  },
  {
   "cell_type": "code",
   "execution_count": 3,
   "metadata": {},
   "outputs": [],
   "source": [
    "sheets1 = []\n",
    "for i in range(2011,2021):\n",
    "    sheets1.append(pd.read_excel('normalized_bps_data_2011-2020_school_board_english.xlsx',sheet_name = str(i)))\n",
    "df1 = pd.concat(sheets1, ignore_index=True)"
   ]
  },
  {
   "cell_type": "code",
   "execution_count": 4,
   "metadata": {},
   "outputs": [],
   "source": [
    "final_df = pd.concat([df,df1])"
   ]
  },
  {
   "cell_type": "code",
   "execution_count": 5,
   "metadata": {},
   "outputs": [
    {
     "name": "stdout",
     "output_type": "stream",
     "text": [
      "<class 'pandas.core.frame.DataFrame'>\n",
      "Index: 53858 entries, 0 to 49683\n",
      "Data columns (total 39 columns):\n",
      " #   Column                                  Non-Null Count  Dtype  \n",
      "---  ------                                  --------------  -----  \n",
      " 0   Sector                                  53858 non-null  object \n",
      " 1   Sub Sector                              48634 non-null  object \n",
      " 2   Organization                            53858 non-null  object \n",
      " 3   Operation                               53858 non-null  object \n",
      " 4   Operation Type                          53858 non-null  object \n",
      " 5   Address                                 53858 non-null  object \n",
      " 6   City                                    53858 non-null  object \n",
      " 7   Postal Code                             53858 non-null  object \n",
      " 8   2011 GHG Emissions (kg)                 5488 non-null   float64\n",
      " 9   2011 Energy Intensity (eWh/HDD/sq. ft)  5477 non-null   float64\n",
      " 10  2011 Energy Intensity (ekWh/ML)         0 non-null      float64\n",
      " 11  2012 GHG Emissions (kg)                 5579 non-null   float64\n",
      " 12  2012 Energy Intensity (eWh/HDD/sq. ft)  5579 non-null   float64\n",
      " 13  2012 Energy Intensity (ekWh/ML)         0 non-null      float64\n",
      " 14  2013 GHG Emissions (kg)                 5449 non-null   float64\n",
      " 15  2013 Energy Intensity (eWh/HDD/sq. ft)  5436 non-null   float64\n",
      " 16  2013 Energy Intensity (ekWh/ML)         13 non-null     float64\n",
      " 17  2014 GHG Emissions (kg)                 5428 non-null   float64\n",
      " 18  2014 Energy Intensity (eWh/HDD/sq. ft)  5428 non-null   float64\n",
      " 19  2014 Energy Intensity (ekWh/ML)         0 non-null      float64\n",
      " 20  2015 GHG Emissions (kg)                 5405 non-null   float64\n",
      " 21  2015 Energy Intensity (eWh/HDD/sq. ft)  5405 non-null   float64\n",
      " 22  2015 Energy Intensity (ekWh/ML)         0 non-null      float64\n",
      " 23  2016 GHG Emissions (kg)                 5406 non-null   float64\n",
      " 24  2016 Energy Intensity (eWh/HDD/sq. ft)  5406 non-null   float64\n",
      " 25  2016 Energy Intensity (ekWh/ML)         0 non-null      float64\n",
      " 26  2017 GHG Emissions (kg)                 5356 non-null   float64\n",
      " 27  2017 Energy Intensity (eWh/HDD/sq. ft)  5356 non-null   float64\n",
      " 28  2017 Energy Intensity (ekWh/ML)         0 non-null      float64\n",
      " 29  2018 GHG Emissions (kg)                 5271 non-null   float64\n",
      " 30  2018 Energy Intensity (eWh/HDD/sq. ft)  5271 non-null   float64\n",
      " 31  2018 Energy Intensity (ekWh/ML)         0 non-null      float64\n",
      " 32  2019 GHG Emissions (kg)                 5252 non-null   float64\n",
      " 33  2019 Energy Intensity (eWh/HDD/sq. ft)  5252 non-null   float64\n",
      " 34  2019 Energy Intensity (ekWh/ML)         0 non-null      float64\n",
      " 35  SubSector                               5224 non-null   object \n",
      " 36  GHG Emissions (kg)                      5224 non-null   float64\n",
      " 37  Energy Intensity (eWh/HDD/sq. ft)       5224 non-null   float64\n",
      " 38  Energy Intensity (ekWh/ML)              0 non-null      float64\n",
      "dtypes: float64(30), object(9)\n",
      "memory usage: 16.4+ MB\n"
     ]
    }
   ],
   "source": [
    "final_df.info()"
   ]
  },
  {
   "cell_type": "code",
   "execution_count": 6,
   "metadata": {},
   "outputs": [
    {
     "data": {
      "text/html": [
       "<div>\n",
       "<style scoped>\n",
       "    .dataframe tbody tr th:only-of-type {\n",
       "        vertical-align: middle;\n",
       "    }\n",
       "\n",
       "    .dataframe tbody tr th {\n",
       "        vertical-align: top;\n",
       "    }\n",
       "\n",
       "    .dataframe thead th {\n",
       "        text-align: right;\n",
       "    }\n",
       "</style>\n",
       "<table border=\"1\" class=\"dataframe\">\n",
       "  <thead>\n",
       "    <tr style=\"text-align: right;\">\n",
       "      <th></th>\n",
       "      <th>Sector</th>\n",
       "      <th>Sub Sector</th>\n",
       "      <th>Organization</th>\n",
       "      <th>Operation</th>\n",
       "      <th>Operation Type</th>\n",
       "      <th>Address</th>\n",
       "      <th>City</th>\n",
       "      <th>Postal Code</th>\n",
       "      <th>2011 GHG Emissions (kg)</th>\n",
       "      <th>2011 Energy Intensity (eWh/HDD/sq. ft)</th>\n",
       "      <th>...</th>\n",
       "      <th>2018 GHG Emissions (kg)</th>\n",
       "      <th>2018 Energy Intensity (eWh/HDD/sq. ft)</th>\n",
       "      <th>2018 Energy Intensity (ekWh/ML)</th>\n",
       "      <th>2019 GHG Emissions (kg)</th>\n",
       "      <th>2019 Energy Intensity (eWh/HDD/sq. ft)</th>\n",
       "      <th>2019 Energy Intensity (ekWh/ML)</th>\n",
       "      <th>SubSector</th>\n",
       "      <th>GHG Emissions (kg)</th>\n",
       "      <th>Energy Intensity (eWh/HDD/sq. ft)</th>\n",
       "      <th>Energy Intensity (ekWh/ML)</th>\n",
       "    </tr>\n",
       "  </thead>\n",
       "  <tbody>\n",
       "    <tr>\n",
       "      <th>0</th>\n",
       "      <td>Public Hospital</td>\n",
       "      <td>Acute/Chronic Hospital</td>\n",
       "      <td>Nipigon District Memorial Hospital</td>\n",
       "      <td>Nipigon District Memorial Hospital</td>\n",
       "      <td>Facilities used for hospital purposes</td>\n",
       "      <td>125 Hogan Road</td>\n",
       "      <td>Nipigon</td>\n",
       "      <td>P0T 2J0</td>\n",
       "      <td>7.815761e+05</td>\n",
       "      <td>15.918929</td>\n",
       "      <td>...</td>\n",
       "      <td>NaN</td>\n",
       "      <td>NaN</td>\n",
       "      <td>NaN</td>\n",
       "      <td>NaN</td>\n",
       "      <td>NaN</td>\n",
       "      <td>NaN</td>\n",
       "      <td>NaN</td>\n",
       "      <td>NaN</td>\n",
       "      <td>NaN</td>\n",
       "      <td>NaN</td>\n",
       "    </tr>\n",
       "    <tr>\n",
       "      <th>1</th>\n",
       "      <td>Public Hospital</td>\n",
       "      <td>Acute/Chronic Hospital</td>\n",
       "      <td>Nipigon District Memorial Hospital</td>\n",
       "      <td>Nipigon Medical Clinic</td>\n",
       "      <td>Administrative offices and related facilities</td>\n",
       "      <td>125 Hogan Road</td>\n",
       "      <td>Nipigon</td>\n",
       "      <td>P0T 2J0</td>\n",
       "      <td>1.334683e+04</td>\n",
       "      <td>4.645495</td>\n",
       "      <td>...</td>\n",
       "      <td>NaN</td>\n",
       "      <td>NaN</td>\n",
       "      <td>NaN</td>\n",
       "      <td>NaN</td>\n",
       "      <td>NaN</td>\n",
       "      <td>NaN</td>\n",
       "      <td>NaN</td>\n",
       "      <td>NaN</td>\n",
       "      <td>NaN</td>\n",
       "      <td>NaN</td>\n",
       "    </tr>\n",
       "    <tr>\n",
       "      <th>2</th>\n",
       "      <td>Public Hospital</td>\n",
       "      <td>Acute/Chronic Hospital</td>\n",
       "      <td>Ottawa Queensway-Carleton Hospital</td>\n",
       "      <td>Queensway Carleton Hospital</td>\n",
       "      <td>Facilities used for hospital purposes</td>\n",
       "      <td>3045 Baseline Road</td>\n",
       "      <td>Ottawa</td>\n",
       "      <td>K2H 8P4</td>\n",
       "      <td>6.768598e+06</td>\n",
       "      <td>21.411170</td>\n",
       "      <td>...</td>\n",
       "      <td>NaN</td>\n",
       "      <td>NaN</td>\n",
       "      <td>NaN</td>\n",
       "      <td>NaN</td>\n",
       "      <td>NaN</td>\n",
       "      <td>NaN</td>\n",
       "      <td>NaN</td>\n",
       "      <td>NaN</td>\n",
       "      <td>NaN</td>\n",
       "      <td>NaN</td>\n",
       "    </tr>\n",
       "    <tr>\n",
       "      <th>3</th>\n",
       "      <td>Public Hospital</td>\n",
       "      <td>Chronic Hospital</td>\n",
       "      <td>Toronto Runnymede Healthcare Centre</td>\n",
       "      <td>Runnymede Healthcare Centre</td>\n",
       "      <td>Facilities used for hospital purposes</td>\n",
       "      <td>625 Runnymede</td>\n",
       "      <td>Toronto</td>\n",
       "      <td>M6S3A3</td>\n",
       "      <td>2.044572e+06</td>\n",
       "      <td>19.643611</td>\n",
       "      <td>...</td>\n",
       "      <td>NaN</td>\n",
       "      <td>NaN</td>\n",
       "      <td>NaN</td>\n",
       "      <td>NaN</td>\n",
       "      <td>NaN</td>\n",
       "      <td>NaN</td>\n",
       "      <td>NaN</td>\n",
       "      <td>NaN</td>\n",
       "      <td>NaN</td>\n",
       "      <td>NaN</td>\n",
       "    </tr>\n",
       "    <tr>\n",
       "      <th>4</th>\n",
       "      <td>Public Hospital</td>\n",
       "      <td>Acute/Chronic Hospital</td>\n",
       "      <td>Renfrew Victoria Hospital</td>\n",
       "      <td>Renfrew Victoria Hospital</td>\n",
       "      <td>Facilities used for hospital purposes</td>\n",
       "      <td>499 Raglan Street North</td>\n",
       "      <td>Renfrew</td>\n",
       "      <td>K7V 1P6</td>\n",
       "      <td>1.289471e+06</td>\n",
       "      <td>21.388512</td>\n",
       "      <td>...</td>\n",
       "      <td>NaN</td>\n",
       "      <td>NaN</td>\n",
       "      <td>NaN</td>\n",
       "      <td>NaN</td>\n",
       "      <td>NaN</td>\n",
       "      <td>NaN</td>\n",
       "      <td>NaN</td>\n",
       "      <td>NaN</td>\n",
       "      <td>NaN</td>\n",
       "      <td>NaN</td>\n",
       "    </tr>\n",
       "  </tbody>\n",
       "</table>\n",
       "<p>5 rows × 39 columns</p>\n",
       "</div>"
      ],
      "text/plain": [
       "            Sector              Sub Sector  \\\n",
       "0  Public Hospital  Acute/Chronic Hospital   \n",
       "1  Public Hospital  Acute/Chronic Hospital   \n",
       "2  Public Hospital  Acute/Chronic Hospital   \n",
       "3  Public Hospital        Chronic Hospital   \n",
       "4  Public Hospital  Acute/Chronic Hospital   \n",
       "\n",
       "                          Organization                           Operation  \\\n",
       "0   Nipigon District Memorial Hospital  Nipigon District Memorial Hospital   \n",
       "1   Nipigon District Memorial Hospital              Nipigon Medical Clinic   \n",
       "2   Ottawa Queensway-Carleton Hospital         Queensway Carleton Hospital   \n",
       "3  Toronto Runnymede Healthcare Centre         Runnymede Healthcare Centre   \n",
       "4            Renfrew Victoria Hospital           Renfrew Victoria Hospital   \n",
       "\n",
       "                                  Operation Type                  Address  \\\n",
       "0          Facilities used for hospital purposes           125 Hogan Road   \n",
       "1  Administrative offices and related facilities           125 Hogan Road   \n",
       "2          Facilities used for hospital purposes       3045 Baseline Road   \n",
       "3          Facilities used for hospital purposes            625 Runnymede   \n",
       "4          Facilities used for hospital purposes  499 Raglan Street North   \n",
       "\n",
       "      City Postal Code  2011 GHG Emissions (kg)  \\\n",
       "0  Nipigon     P0T 2J0             7.815761e+05   \n",
       "1  Nipigon     P0T 2J0             1.334683e+04   \n",
       "2   Ottawa     K2H 8P4             6.768598e+06   \n",
       "3  Toronto      M6S3A3             2.044572e+06   \n",
       "4  Renfrew     K7V 1P6             1.289471e+06   \n",
       "\n",
       "   2011 Energy Intensity (eWh/HDD/sq. ft)  ...  2018 GHG Emissions (kg)  \\\n",
       "0                               15.918929  ...                      NaN   \n",
       "1                                4.645495  ...                      NaN   \n",
       "2                               21.411170  ...                      NaN   \n",
       "3                               19.643611  ...                      NaN   \n",
       "4                               21.388512  ...                      NaN   \n",
       "\n",
       "   2018 Energy Intensity (eWh/HDD/sq. ft)  2018 Energy Intensity (ekWh/ML)  \\\n",
       "0                                     NaN                              NaN   \n",
       "1                                     NaN                              NaN   \n",
       "2                                     NaN                              NaN   \n",
       "3                                     NaN                              NaN   \n",
       "4                                     NaN                              NaN   \n",
       "\n",
       "   2019 GHG Emissions (kg)  2019 Energy Intensity (eWh/HDD/sq. ft)  \\\n",
       "0                      NaN                                     NaN   \n",
       "1                      NaN                                     NaN   \n",
       "2                      NaN                                     NaN   \n",
       "3                      NaN                                     NaN   \n",
       "4                      NaN                                     NaN   \n",
       "\n",
       "   2019 Energy Intensity (ekWh/ML)  SubSector  GHG Emissions (kg)  \\\n",
       "0                              NaN        NaN                 NaN   \n",
       "1                              NaN        NaN                 NaN   \n",
       "2                              NaN        NaN                 NaN   \n",
       "3                              NaN        NaN                 NaN   \n",
       "4                              NaN        NaN                 NaN   \n",
       "\n",
       "   Energy Intensity (eWh/HDD/sq. ft)  Energy Intensity (ekWh/ML)  \n",
       "0                                NaN                         NaN  \n",
       "1                                NaN                         NaN  \n",
       "2                                NaN                         NaN  \n",
       "3                                NaN                         NaN  \n",
       "4                                NaN                         NaN  \n",
       "\n",
       "[5 rows x 39 columns]"
      ]
     },
     "execution_count": 6,
     "metadata": {},
     "output_type": "execute_result"
    }
   ],
   "source": [
    "final_df.head()"
   ]
  },
  {
   "cell_type": "markdown",
   "metadata": {},
   "source": [
    "From the above info, the data set has many columns with only null values. Hence Dropping those Null columns"
   ]
  },
  {
   "cell_type": "code",
   "execution_count": 7,
   "metadata": {},
   "outputs": [],
   "source": [
    "null_columns = ['2011 Energy Intensity (ekWh/ML)','2012 Energy Intensity (ekWh/ML)','2013 Energy Intensity (ekWh/ML)','2014 Energy Intensity (ekWh/ML)','2015 Energy Intensity (ekWh/ML)',\n",
    "                '2016 Energy Intensity (ekWh/ML)','2017 Energy Intensity (ekWh/ML)','2018 Energy Intensity (ekWh/ML)','2019 Energy Intensity (ekWh/ML)',\n",
    "                'Energy Intensity (ekWh/ML)']\n",
    "final_df.drop(columns=null_columns,axis=1,inplace=True)"
   ]
  },
  {
   "cell_type": "code",
   "execution_count": 8,
   "metadata": {},
   "outputs": [
    {
     "data": {
      "text/plain": [
       "0"
      ]
     },
     "execution_count": 8,
     "metadata": {},
     "output_type": "execute_result"
    }
   ],
   "source": [
    "final_df.duplicated().sum()"
   ]
  },
  {
   "cell_type": "code",
   "execution_count": 9,
   "metadata": {},
   "outputs": [],
   "source": [
    "kg = ['2011 GHG Emissions (kg)','2012 GHG Emissions (kg)','2013 GHG Emissions (kg)','2014 GHG Emissions (kg)','2015 GHG Emissions (kg)','2016 GHG Emissions (kg)',\n",
    "      '2017 GHG Emissions (kg)','2018 GHG Emissions (kg)','2019 GHG Emissions (kg)','GHG Emissions (kg)']\n",
    "final_df['Total_GHG_Emissions(kg)'] = final_df[kg].sum(axis=1)"
   ]
  },
  {
   "cell_type": "code",
   "execution_count": 10,
   "metadata": {},
   "outputs": [],
   "source": [
    "intensity_sqft = ['2011 Energy Intensity (eWh/HDD/sq. ft)','2012 Energy Intensity (eWh/HDD/sq. ft)','2013 Energy Intensity (eWh/HDD/sq. ft)',\n",
    "                  '2014 Energy Intensity (eWh/HDD/sq. ft)','2015 Energy Intensity (eWh/HDD/sq. ft)','2016 Energy Intensity (eWh/HDD/sq. ft)',\n",
    "                  '2017 Energy Intensity (eWh/HDD/sq. ft)','2018 Energy Intensity (eWh/HDD/sq. ft)','2019 Energy Intensity (eWh/HDD/sq. ft)',\n",
    "                  'Energy Intensity (eWh/HDD/sq. ft)']\n",
    "final_df['Total_energy_intensity(/sq.ft)'] = final_df[intensity_sqft].sum(axis=1)"
   ]
  },
  {
   "cell_type": "code",
   "execution_count": 18,
   "metadata": {},
   "outputs": [
    {
     "data": {
      "text/plain": [
       "Sector           SubSector             \n",
       "Public Hospital  Acute/Chronic Hospital     287\n",
       "                 Acute Hospital              43\n",
       "                 Chronic Hospital            24\n",
       "School Board     School Board              4870\n",
       "Name: count, dtype: int64"
      ]
     },
     "execution_count": 18,
     "metadata": {},
     "output_type": "execute_result"
    }
   ],
   "source": [
    "final_df.groupby('Sector')['SubSector'].value_counts()"
   ]
  },
  {
   "cell_type": "code",
   "execution_count": 12,
   "metadata": {},
   "outputs": [
    {
     "data": {
      "text/plain": [
       "(array([nan, 'Acute/Chronic Hospital', 'Acute Hospital',\n",
       "        'Chronic Hospital', 'School Board'], dtype=object),\n",
       " 48634)"
      ]
     },
     "execution_count": 12,
     "metadata": {},
     "output_type": "execute_result"
    }
   ],
   "source": [
    "final_df['SubSector'].unique(), final_df['SubSector'].isnull().sum()"
   ]
  },
  {
   "cell_type": "code",
   "execution_count": 25,
   "metadata": {},
   "outputs": [],
   "source": [
    "final_df['Sub_Sector']= final_df['Sub Sector'].fillna('') + final_df['SubSector'].fillna('')"
   ]
  },
  {
   "cell_type": "code",
   "execution_count": 26,
   "metadata": {},
   "outputs": [],
   "source": [
    "final_df.drop(columns=['Sub Sector','SubSector'],axis=1,inplace=True)"
   ]
  },
  {
   "cell_type": "code",
   "execution_count": 27,
   "metadata": {},
   "outputs": [
    {
     "data": {
      "text/plain": [
       "Index(['Sector', 'Organization', 'Operation', 'Operation Type', 'Address',\n",
       "       'City', 'Postal Code', '2011 GHG Emissions (kg)',\n",
       "       '2011 Energy Intensity (eWh/HDD/sq. ft)', '2012 GHG Emissions (kg)',\n",
       "       '2012 Energy Intensity (eWh/HDD/sq. ft)', '2013 GHG Emissions (kg)',\n",
       "       '2013 Energy Intensity (eWh/HDD/sq. ft)', '2014 GHG Emissions (kg)',\n",
       "       '2014 Energy Intensity (eWh/HDD/sq. ft)', '2015 GHG Emissions (kg)',\n",
       "       '2015 Energy Intensity (eWh/HDD/sq. ft)', '2016 GHG Emissions (kg)',\n",
       "       '2016 Energy Intensity (eWh/HDD/sq. ft)', '2017 GHG Emissions (kg)',\n",
       "       '2017 Energy Intensity (eWh/HDD/sq. ft)', '2018 GHG Emissions (kg)',\n",
       "       '2018 Energy Intensity (eWh/HDD/sq. ft)', '2019 GHG Emissions (kg)',\n",
       "       '2019 Energy Intensity (eWh/HDD/sq. ft)', 'GHG Emissions (kg)',\n",
       "       'Energy Intensity (eWh/HDD/sq. ft)', 'Total_GHG_Emissions(kg)',\n",
       "       'Total_energy_intensity(/sq.ft)', 'Sub_Sector'],\n",
       "      dtype='object')"
      ]
     },
     "execution_count": 27,
     "metadata": {},
     "output_type": "execute_result"
    }
   ],
   "source": [
    "final_df.columns"
   ]
  },
  {
   "cell_type": "code",
   "execution_count": 28,
   "metadata": {},
   "outputs": [
    {
     "data": {
      "text/plain": [
       "Sector                                     0.00\n",
       "Organization                               0.00\n",
       "Operation                                  0.00\n",
       "Operation Type                             0.00\n",
       "Address                                    0.00\n",
       "City                                       0.00\n",
       "Postal Code                                0.00\n",
       "2011 GHG Emissions (kg)                   89.81\n",
       "2011 Energy Intensity (eWh/HDD/sq. ft)    89.83\n",
       "2012 GHG Emissions (kg)                   89.64\n",
       "2012 Energy Intensity (eWh/HDD/sq. ft)    89.64\n",
       "2013 GHG Emissions (kg)                   89.88\n",
       "2013 Energy Intensity (eWh/HDD/sq. ft)    89.91\n",
       "2014 GHG Emissions (kg)                   89.92\n",
       "2014 Energy Intensity (eWh/HDD/sq. ft)    89.92\n",
       "2015 GHG Emissions (kg)                   89.96\n",
       "2015 Energy Intensity (eWh/HDD/sq. ft)    89.96\n",
       "2016 GHG Emissions (kg)                   89.96\n",
       "2016 Energy Intensity (eWh/HDD/sq. ft)    89.96\n",
       "2017 GHG Emissions (kg)                   90.06\n",
       "2017 Energy Intensity (eWh/HDD/sq. ft)    90.06\n",
       "2018 GHG Emissions (kg)                   90.21\n",
       "2018 Energy Intensity (eWh/HDD/sq. ft)    90.21\n",
       "2019 GHG Emissions (kg)                   90.25\n",
       "2019 Energy Intensity (eWh/HDD/sq. ft)    90.25\n",
       "GHG Emissions (kg)                        90.30\n",
       "Energy Intensity (eWh/HDD/sq. ft)         90.30\n",
       "Total_GHG_Emissions(kg)                    0.00\n",
       "Total_energy_intensity(/sq.ft)             0.00\n",
       "Sub_Sector                                 0.00\n",
       "dtype: float64"
      ]
     },
     "execution_count": 28,
     "metadata": {},
     "output_type": "execute_result"
    }
   ],
   "source": [
    "round((final_df.isnull().sum()*100)/len(final_df),2)"
   ]
  },
  {
   "cell_type": "code",
   "execution_count": 29,
   "metadata": {},
   "outputs": [],
   "source": [
    "final_df.fillna(0,inplace=True)"
   ]
  },
  {
   "cell_type": "code",
   "execution_count": 30,
   "metadata": {},
   "outputs": [],
   "source": [
    "final_df.to_excel('ghg_emissions.xlsx',index=False)"
   ]
  },
  {
   "cell_type": "code",
   "execution_count": 33,
   "metadata": {},
   "outputs": [],
   "source": [
    "new_df = pd.DataFrame({'Year':[2011,2012,2013,2014,2015,2016,2017,2018,2019,2020],\n",
    "             'Emissions(kg)':[final_df['2011 GHG Emissions (kg)'].sum(),final_df['2012 GHG Emissions (kg)'].sum(),final_df['2013 GHG Emissions (kg)'].sum(),\n",
    "                              final_df['2014 GHG Emissions (kg)'].sum(),final_df['2015 GHG Emissions (kg)'].sum(),final_df['2016 GHG Emissions (kg)'].sum(),\n",
    "                              final_df['2017 GHG Emissions (kg)'].sum(),final_df['2018 GHG Emissions (kg)'].sum(),final_df['2019 GHG Emissions (kg)'].sum(),\n",
    "                              final_df['GHG Emissions (kg)'].sum()],\n",
    "             'Emission Intensity/sq.ft':[final_df['2011 Energy Intensity (eWh/HDD/sq. ft)'].sum(),final_df['2012 Energy Intensity (eWh/HDD/sq. ft)'].sum(),\n",
    "                                         final_df['2013 Energy Intensity (eWh/HDD/sq. ft)'].sum(),final_df['2014 Energy Intensity (eWh/HDD/sq. ft)'].sum(),\n",
    "                                         final_df['2015 Energy Intensity (eWh/HDD/sq. ft)'].sum(),final_df['2016 Energy Intensity (eWh/HDD/sq. ft)'].sum(),\n",
    "                                         final_df['2017 Energy Intensity (eWh/HDD/sq. ft)'].sum(),final_df['2018 Energy Intensity (eWh/HDD/sq. ft)'].sum(),\n",
    "                                         final_df['2019 Energy Intensity (eWh/HDD/sq. ft)'].sum(),final_df['Energy Intensity (eWh/HDD/sq. ft)'].sum()]})"
   ]
  },
  {
   "cell_type": "code",
   "execution_count": 35,
   "metadata": {},
   "outputs": [],
   "source": [
    "new_df.to_excel('year.xlsx',index=False)"
   ]
  }
 ],
 "metadata": {
  "kernelspec": {
   "display_name": "Python 3",
   "language": "python",
   "name": "python3"
  },
  "language_info": {
   "codemirror_mode": {
    "name": "ipython",
    "version": 3
   },
   "file_extension": ".py",
   "mimetype": "text/x-python",
   "name": "python",
   "nbconvert_exporter": "python",
   "pygments_lexer": "ipython3",
   "version": "3.10.0"
  }
 },
 "nbformat": 4,
 "nbformat_minor": 2
}
